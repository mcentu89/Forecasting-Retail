{
 "cells": [
  {
   "cell_type": "markdown",
   "id": "d31dea65",
   "metadata": {},
   "source": [
    "# CALIDAD DE DATOS"
   ]
  },
  {
   "cell_type": "markdown",
   "id": "swiss-fault",
   "metadata": {},
   "source": [
    "## IMPORTAR PAQUETES"
   ]
  },
  {
   "cell_type": "code",
   "execution_count": null,
   "id": "adjacent-toddler",
   "metadata": {},
   "outputs": [],
   "source": [
    "import numpy as np\n",
    "import pandas as pd\n",
    "from janitor import clean_names\n",
    "\n",
    "#Automcompletar rápido\n",
    "%config IPCompleter.greedy=True"
   ]
  },
  {
   "cell_type": "markdown",
   "id": "graduate-compensation",
   "metadata": {},
   "source": [
    "## IMPORTAR LOS DATOS"
   ]
  },
  {
   "cell_type": "markdown",
   "id": "38bb812b",
   "metadata": {},
   "source": [
    "Sustituir la ruta del proyecto."
   ]
  },
  {
   "cell_type": "code",
   "execution_count": null,
   "id": "28c63848",
   "metadata": {},
   "outputs": [],
   "source": [
    "ruta_proyecto = 'C:/Users/mcent/OneDrive/Escritorio/MARTIN/MASTERS/DS4B/DATA SCIENCE/03_MACHINE_LEARNING/07_CASOS/FORECASTING RETAIL'"
   ]
  },
  {
   "cell_type": "markdown",
   "id": "ba473b09",
   "metadata": {},
   "source": [
    "Sustituir el nombre_fichero_datos."
   ]
  },
  {
   "cell_type": "code",
   "execution_count": null,
   "id": "5d9dc5ea",
   "metadata": {},
   "outputs": [],
   "source": [
    "nombre_fichero_datos = 'trabajo.csv'"
   ]
  },
  {
   "cell_type": "markdown",
   "id": "ae75bf0b",
   "metadata": {},
   "source": [
    "Cargar los datos."
   ]
  },
  {
   "cell_type": "code",
   "execution_count": null,
   "id": "24ff453b",
   "metadata": {
    "scrolled": false
   },
   "outputs": [],
   "source": [
    "ruta_completa = ruta_proyecto + '/02_Datos/03_Trabajo/' + nombre_fichero_datos\n",
    "\n",
    "df = pd.read_csv(ruta_completa,parse_dates=['date'],index_col='date')\n",
    "df"
   ]
  },
  {
   "cell_type": "markdown",
   "id": "d2d5443c",
   "metadata": {},
   "source": [
    "## VISIÓN GENERAL"
   ]
  },
  {
   "cell_type": "code",
   "execution_count": null,
   "id": "976c8ac6",
   "metadata": {},
   "outputs": [],
   "source": [
    "df.info()"
   ]
  },
  {
   "cell_type": "markdown",
   "id": "158ee1d7",
   "metadata": {},
   "source": [
    "## TIPOS DE DATOS"
   ]
  },
  {
   "cell_type": "markdown",
   "id": "88162727",
   "metadata": {},
   "source": [
    "### Identificación"
   ]
  },
  {
   "cell_type": "code",
   "execution_count": null,
   "id": "f2100d27",
   "metadata": {},
   "outputs": [],
   "source": [
    "df.head(2)"
   ]
  },
  {
   "cell_type": "code",
   "execution_count": null,
   "id": "197a99c2",
   "metadata": {},
   "outputs": [],
   "source": [
    "df.dtypes"
   ]
  },
  {
   "cell_type": "markdown",
   "id": "097c987f",
   "metadata": {},
   "source": [
    "Conclusión: \n",
    "\n",
    "* year, month, y wday deberían ser categóricas"
   ]
  },
  {
   "cell_type": "markdown",
   "id": "fe903a4d",
   "metadata": {},
   "source": [
    "### Corrección"
   ]
  },
  {
   "cell_type": "code",
   "execution_count": null,
   "id": "4ca13f40",
   "metadata": {},
   "outputs": [],
   "source": [
    "df = df.astype({'year':'O',\n",
    "               'month': 'O',\n",
    "               'wday': 'O'})\n",
    "\n",
    "df.dtypes"
   ]
  },
  {
   "cell_type": "markdown",
   "id": "cc8d4a22",
   "metadata": {},
   "source": [
    "## VALORES ÚNICOS"
   ]
  },
  {
   "cell_type": "markdown",
   "id": "f21f0e36",
   "metadata": {},
   "source": [
    "### Identificación"
   ]
  },
  {
   "cell_type": "code",
   "execution_count": null,
   "id": "6e53e444",
   "metadata": {},
   "outputs": [],
   "source": [
    "df.nunique().sort_values()"
   ]
  },
  {
   "cell_type": "markdown",
   "id": "b1d1a668",
   "metadata": {},
   "source": [
    "### Corrección"
   ]
  },
  {
   "cell_type": "code",
   "execution_count": null,
   "id": "62f7d14e",
   "metadata": {},
   "outputs": [],
   "source": [
    "df.drop(columns = ['state_id','cat_id','dept_id'], inplace = True)"
   ]
  },
  {
   "cell_type": "markdown",
   "id": "e25cfc89",
   "metadata": {},
   "source": [
    "## DUPLICADOS"
   ]
  },
  {
   "cell_type": "markdown",
   "id": "8a079ed3",
   "metadata": {},
   "source": [
    "### Identificación"
   ]
  },
  {
   "cell_type": "code",
   "execution_count": null,
   "id": "f5b23bfc",
   "metadata": {
    "scrolled": true
   },
   "outputs": [],
   "source": [
    "df.duplicated().sum()"
   ]
  },
  {
   "cell_type": "markdown",
   "id": "632ec2cd",
   "metadata": {},
   "source": [
    "## SEPARAR NUMÉRICAS Y CATEGÓRICAS"
   ]
  },
  {
   "cell_type": "markdown",
   "id": "573a61ac",
   "metadata": {},
   "source": [
    "### Categóricas"
   ]
  },
  {
   "cell_type": "code",
   "execution_count": null,
   "id": "47a7eece",
   "metadata": {},
   "outputs": [],
   "source": [
    "cat = df.select_dtypes(exclude = 'number').copy()"
   ]
  },
  {
   "cell_type": "markdown",
   "id": "41756893",
   "metadata": {},
   "source": [
    "### Numéricas"
   ]
  },
  {
   "cell_type": "code",
   "execution_count": null,
   "id": "59140e9a",
   "metadata": {},
   "outputs": [],
   "source": [
    "num = df.select_dtypes(include='number').copy()"
   ]
  },
  {
   "cell_type": "markdown",
   "id": "5e7d8e7e",
   "metadata": {},
   "source": [
    "## GESTIÓN DE CATEGÓRICAS"
   ]
  },
  {
   "cell_type": "markdown",
   "id": "5b5808b7",
   "metadata": {},
   "source": [
    "### Nulos"
   ]
  },
  {
   "cell_type": "markdown",
   "id": "5c08ca55",
   "metadata": {},
   "source": [
    "#### Identificación"
   ]
  },
  {
   "cell_type": "code",
   "execution_count": null,
   "id": "da49ae63",
   "metadata": {
    "scrolled": true
   },
   "outputs": [],
   "source": [
    "cat.isna().sum().sort_values(ascending = False)"
   ]
  },
  {
   "cell_type": "code",
   "execution_count": null,
   "id": "ad3df383",
   "metadata": {},
   "outputs": [],
   "source": [
    "cat.event_name_1.value_counts(dropna=False)"
   ]
  },
  {
   "cell_type": "code",
   "execution_count": null,
   "id": "73788a15",
   "metadata": {},
   "outputs": [],
   "source": [
    "cat.event_name_2.value_counts(dropna=False)"
   ]
  },
  {
   "cell_type": "code",
   "execution_count": null,
   "id": "0c175b1e",
   "metadata": {},
   "outputs": [],
   "source": [
    "cat.event_type_1.value_counts(dropna=False)"
   ]
  },
  {
   "cell_type": "code",
   "execution_count": null,
   "id": "0450ca79",
   "metadata": {},
   "outputs": [],
   "source": [
    "cat.event_type_2.value_counts(dropna=False)"
   ]
  },
  {
   "cell_type": "code",
   "execution_count": null,
   "id": "75e88767",
   "metadata": {},
   "outputs": [],
   "source": [
    "pd.crosstab(index=cat['event_name_1'], columns=cat['event_name_2'])"
   ]
  },
  {
   "cell_type": "markdown",
   "id": "c827a014",
   "metadata": {},
   "source": [
    "Conclusiones:\n",
    "\n",
    "* event_name_2 tiene eventos que ya están incluídos en event_name_1\n",
    "* pero luego al cruzarlos no coinciden\n",
    "* Esto se debe a que estas fechas han coincidido el mismo día. En EEUU se ha festejado en los playoffs el día del padre.\n",
    "* en cuanto a los nulos de event_name y event_type parece claro que son días \"Sin Festivo\", así lo imputaremos"
   ]
  },
  {
   "cell_type": "markdown",
   "id": "6802d575",
   "metadata": {},
   "source": [
    "#### Corrección"
   ]
  },
  {
   "cell_type": "markdown",
   "id": "ebeb52a6",
   "metadata": {},
   "source": [
    "##### Imputar por un valor"
   ]
  },
  {
   "cell_type": "markdown",
   "id": "2cba1c3c",
   "metadata": {},
   "source": [
    "###### Variables a imputar"
   ]
  },
  {
   "cell_type": "code",
   "execution_count": null,
   "id": "4050ef9f",
   "metadata": {},
   "outputs": [],
   "source": [
    "var_imputar_valor = ['event_name_1','event_type_1','event_name_2','event_type_2']"
   ]
  },
  {
   "cell_type": "markdown",
   "id": "fa866ac6",
   "metadata": {},
   "source": [
    "###### Valor por el que imputar"
   ]
  },
  {
   "cell_type": "code",
   "execution_count": null,
   "id": "10abb34a",
   "metadata": {},
   "outputs": [],
   "source": [
    "valor = 'Sin Festivo'"
   ]
  },
  {
   "cell_type": "markdown",
   "id": "78d10252",
   "metadata": {},
   "source": [
    "###### Imputar"
   ]
  },
  {
   "cell_type": "code",
   "execution_count": null,
   "id": "f16e8491",
   "metadata": {},
   "outputs": [],
   "source": [
    "cat[var_imputar_valor] = cat[var_imputar_valor].fillna(valor)"
   ]
  },
  {
   "cell_type": "markdown",
   "id": "ca43fa60",
   "metadata": {},
   "source": [
    "Comprobamos."
   ]
  },
  {
   "cell_type": "code",
   "execution_count": null,
   "id": "942b9c2b",
   "metadata": {
    "scrolled": true
   },
   "outputs": [],
   "source": [
    "cat.isna().sum().sort_values(ascending = False)"
   ]
  },
  {
   "cell_type": "markdown",
   "id": "913cd65d",
   "metadata": {},
   "source": [
    "### Atípicos"
   ]
  },
  {
   "cell_type": "markdown",
   "id": "5a575397",
   "metadata": {},
   "source": [
    "#### Categorías poco frecuentes"
   ]
  },
  {
   "cell_type": "markdown",
   "id": "a7162b68",
   "metadata": {},
   "source": [
    "##### Identificación"
   ]
  },
  {
   "cell_type": "code",
   "execution_count": null,
   "id": "7311c467",
   "metadata": {},
   "outputs": [],
   "source": [
    "for variable in cat:\n",
    "    print(variable + '\\n')\n",
    "    print(cat[variable].value_counts(dropna = False))\n",
    "    print('\\n\\n')\n",
    "    "
   ]
  },
  {
   "cell_type": "markdown",
   "id": "ac94e0cd",
   "metadata": {},
   "source": [
    "Conclusión:\n",
    "\n",
    "* No hay variables con categorías raras\n",
    "* Hay meses con menos registros, esto puede ser porque son los meses con menos de 31 días\n",
    "* 2015 tiene menos registros ¿serán los de validación o hay más?\n",
    "\n",
    "Vamos a comprobarlo."
   ]
  },
  {
   "cell_type": "code",
   "execution_count": null,
   "id": "1a8241f6",
   "metadata": {},
   "outputs": [],
   "source": [
    "df.groupby('year').d.nunique()"
   ]
  },
  {
   "cell_type": "markdown",
   "id": "ff52b17a",
   "metadata": {},
   "source": [
    "Parece que faltan 31 días.\n",
    "\n",
    "Vamos a ver cuales."
   ]
  },
  {
   "cell_type": "code",
   "execution_count": null,
   "id": "bce6b17c",
   "metadata": {},
   "outputs": [],
   "source": [
    "pd.date_range(start = '2015-01-01', end = '2015-12-31' ).difference(df.loc['2015'].index)"
   ]
  },
  {
   "cell_type": "markdown",
   "id": "8aa1a9c6",
   "metadata": {},
   "source": [
    "Está claro que son los de validación, así que todo correcto."
   ]
  },
  {
   "cell_type": "markdown",
   "id": "db3a72a6",
   "metadata": {},
   "source": [
    "## GESTIÓN DE NUMÉRICAS"
   ]
  },
  {
   "cell_type": "markdown",
   "id": "d65bd06a",
   "metadata": {},
   "source": [
    "### Estadísticos"
   ]
  },
  {
   "cell_type": "code",
   "execution_count": null,
   "id": "04123afb",
   "metadata": {},
   "outputs": [],
   "source": [
    "num.describe().T"
   ]
  },
  {
   "cell_type": "markdown",
   "id": "2a15fb2e",
   "metadata": {},
   "source": [
    "### Nulos"
   ]
  },
  {
   "cell_type": "markdown",
   "id": "e5ee8416",
   "metadata": {},
   "source": [
    "#### Identificación"
   ]
  },
  {
   "cell_type": "code",
   "execution_count": null,
   "id": "c9f054a3",
   "metadata": {
    "scrolled": true
   },
   "outputs": [],
   "source": [
    "num.isna().sum().sort_values(ascending = False)"
   ]
  },
  {
   "cell_type": "markdown",
   "id": "ece96011",
   "metadata": {},
   "source": [
    "sell_price es una variable relevante, vamos a ver si encontramos algún patrón."
   ]
  },
  {
   "cell_type": "code",
   "execution_count": 128,
   "id": "5a7f5a87",
   "metadata": {
    "scrolled": true
   },
   "outputs": [
    {
     "data": {
      "text/plain": [
       "item_id\n",
       "FOODS_3_288    71\n",
       "FOODS_3_090     0\n",
       "FOODS_3_120     0\n",
       "FOODS_3_202     0\n",
       "FOODS_3_252     0\n",
       "FOODS_3_329     0\n",
       "FOODS_3_555     0\n",
       "FOODS_3_586     0\n",
       "FOODS_3_587     0\n",
       "FOODS_3_714     0\n",
       "dtype: int64"
      ]
     },
     "execution_count": 128,
     "metadata": {},
     "output_type": "execute_result"
    }
   ],
   "source": [
    "#Por producto\n",
    "df.groupby('item_id').apply(lambda x: x.sell_price.isna().sum()).sort_values(ascending=False)"
   ]
  },
  {
   "cell_type": "code",
   "execution_count": 127,
   "id": "77f3d1c7",
   "metadata": {},
   "outputs": [
    {
     "data": {
      "text/plain": [
       "ventas\n",
       "0      71\n",
       "210     0\n",
       "207     0\n",
       "206     0\n",
       "205     0\n",
       "       ..\n",
       "100     0\n",
       "99      0\n",
       "98      0\n",
       "97      0\n",
       "763     0\n",
       "Length: 301, dtype: int64"
      ]
     },
     "execution_count": 127,
     "metadata": {},
     "output_type": "execute_result"
    }
   ],
   "source": [
    "#Por nivel de ventas\n",
    "df.groupby('ventas').apply(lambda x: x.sell_price.isna().sum()).sort_values(ascending=False)"
   ]
  },
  {
   "cell_type": "markdown",
   "id": "088eb03d",
   "metadata": {},
   "source": [
    "Solo pasa en un producto y solo los días en los que no hay ventas.\n",
    "\n",
    "Claramente el motivo es que si no hay ventas no le pone el precio.\n",
    "\n",
    "Tenemos que corregir esto, ya que es artificial:\n",
    "\n",
    "* El producto tiene un precio aunque ese día no haya habido ventas\n",
    "\n",
    "Lo que tendría más sentido es imputar esos nulos por el primer valor válido anterior SEGMENTADO POR PRODUCTO.\n",
    "\n",
    "Pero podría pasar que el primer día de un producto tuviera ventas cero, lo cual arrastraría los nulos hacia delante sin solucionar el problema.\n",
    "\n",
    "Así que vamos a imputar por el valor más frecuente del precio de CADA PRODUCTO (la moda).\n",
    "\n",
    "Esto añade complejidad, ya que necesitamos el producto que no lo tenemos en num.\n",
    "\n",
    "Así que tenemos que incluirlo temporalmente y después eliminarlo."
   ]
  },
  {
   "cell_type": "markdown",
   "id": "5776bade",
   "metadata": {},
   "source": [
    "##### Añadir el producto"
   ]
  },
  {
   "cell_type": "code",
   "execution_count": null,
   "id": "6479ab46",
   "metadata": {},
   "outputs": [],
   "source": [
    "num = pd.concat([num,cat.item_id], axis = 1)\n",
    "num"
   ]
  },
  {
   "cell_type": "markdown",
   "id": "475115c2",
   "metadata": {},
   "source": [
    "#### Corrección de los nulos de sell_price"
   ]
  },
  {
   "cell_type": "markdown",
   "id": "1904e1ba",
   "metadata": {},
   "source": [
    "##### Calcular el precio más frecuente por producto e imputar"
   ]
  },
  {
   "cell_type": "code",
   "execution_count": null,
   "id": "829f6fc3",
   "metadata": {},
   "outputs": [],
   "source": [
    "def imputar_moda(registros):\n",
    "    #Calcula la moda del precio en ese producto\n",
    "    moda = registros.sell_price.mode()[0]\n",
    "    #Imputa los nulos\n",
    "    registros.loc[registros.sell_price.isna(),'sell_price'] = moda\n",
    "    #Devuelve todos los registros del producto\n",
    "    return(registros)\n",
    "\n",
    "num = num.groupby('item_id').apply(imputar_moda)"
   ]
  },
  {
   "cell_type": "markdown",
   "id": "076f436a",
   "metadata": {},
   "source": [
    "Para comprobar que la imputación se ha hecho por producto podemos revisar los valores distintos de precio en cada producto y ver que no haya un salto grande, por ejemplo un salto de 3 a 10."
   ]
  },
  {
   "cell_type": "code",
   "execution_count": null,
   "id": "098666f0",
   "metadata": {},
   "outputs": [],
   "source": [
    "num.groupby('item_id').sell_price.value_counts()"
   ]
  },
  {
   "cell_type": "markdown",
   "id": "082e59de",
   "metadata": {},
   "source": [
    "##### Eliminar el producto de num"
   ]
  },
  {
   "cell_type": "code",
   "execution_count": null,
   "id": "7af60377",
   "metadata": {},
   "outputs": [],
   "source": [
    "num.drop(columns = 'item_id',inplace=True)"
   ]
  },
  {
   "cell_type": "code",
   "execution_count": null,
   "id": "95e18d40",
   "metadata": {},
   "outputs": [],
   "source": [
    "num.head()"
   ]
  },
  {
   "cell_type": "markdown",
   "id": "82cb56e8",
   "metadata": {},
   "source": [
    "### Atípicos"
   ]
  },
  {
   "cell_type": "markdown",
   "id": "760baf8c",
   "metadata": {},
   "source": [
    "#### Por desviación típica"
   ]
  },
  {
   "cell_type": "markdown",
   "id": "4b508149",
   "metadata": {},
   "source": [
    "##### Identificación"
   ]
  },
  {
   "cell_type": "markdown",
   "id": "8ceda3d3",
   "metadata": {},
   "source": [
    "###### Definir el número de desviaciones típicas"
   ]
  },
  {
   "cell_type": "code",
   "execution_count": null,
   "id": "2b7419cb",
   "metadata": {},
   "outputs": [],
   "source": [
    "num_desv_tip = 4"
   ]
  },
  {
   "cell_type": "markdown",
   "id": "942da237",
   "metadata": {},
   "source": [
    "###### Función que devuelve los índices de los atípicos"
   ]
  },
  {
   "cell_type": "code",
   "execution_count": null,
   "id": "8a81f494",
   "metadata": {},
   "outputs": [],
   "source": [
    "def atipicos_desv_tip(variable, num_desv_tip = 4):\n",
    "    #sacamos los nulos por ahora\n",
    "    variable = variable.dropna()\n",
    "    #calculamos los límites\n",
    "    media = np.mean(variable)\n",
    "    sd = np.std(variable)\n",
    "    umbral = sd * num_desv_tip\n",
    "    lim_inf = media - umbral\n",
    "    lim_sup = media + umbral\n",
    "    #encontramos los índices de los que están fuera de los límites\n",
    "    indices = [indice for indice,valor in variable.items() if valor < lim_inf or valor > lim_sup]\n",
    "    return(indices)"
   ]
  },
  {
   "cell_type": "markdown",
   "id": "768e7398",
   "metadata": {},
   "source": [
    "###### Función que cuenta el número de atípicos"
   ]
  },
  {
   "cell_type": "code",
   "execution_count": null,
   "id": "5c8f4462",
   "metadata": {},
   "outputs": [],
   "source": [
    "def conteo_atipicos(df,variable, num_desv_tip = 4):\n",
    "    atipicos = atipicos_desv_tip(df[variable], num_desv_tip)\n",
    "    return(df.loc[atipicos,variable].value_counts())"
   ]
  },
  {
   "cell_type": "markdown",
   "id": "5cd1e425",
   "metadata": {},
   "source": [
    "###### Variables a aplicar"
   ]
  },
  {
   "cell_type": "code",
   "execution_count": null,
   "id": "cfbb3d88",
   "metadata": {},
   "outputs": [],
   "source": [
    "var_atipicos_dt = ['ventas','sell_price']"
   ]
  },
  {
   "cell_type": "markdown",
   "id": "ac400ced",
   "metadata": {},
   "source": [
    "###### Aplicar"
   ]
  },
  {
   "cell_type": "code",
   "execution_count": null,
   "id": "c4b74e98",
   "metadata": {
    "scrolled": true
   },
   "outputs": [],
   "source": [
    "for variable in var_atipicos_dt:\n",
    "    print('\\n' + variable + ':\\n')\n",
    "    print(conteo_atipicos(num,variable,num_desv_tip))"
   ]
  },
  {
   "cell_type": "markdown",
   "id": "3d2cd3d3",
   "metadata": {},
   "source": [
    "Parece que puede ser atípicos superiores."
   ]
  },
  {
   "cell_type": "code",
   "execution_count": null,
   "id": "5150d3fa",
   "metadata": {},
   "outputs": [
    {
     "data": {
      "image/png": "[encoded data removed]",
      "text/plain": [
       "<Figure size 576x288 with 1 Axes>"
      ]
     },
     "metadata": {
      "needs_background": "light"
     },
     "output_type": "display_data"
    }
   ],
   "source": [
    "num.ventas.value_counts().plot(figsize = (8,4));"
   ]
  },
  {
   "cell_type": "markdown",
   "id": "b8736033",
   "metadata": {},
   "source": [
    "Conclusión:\n",
    "    \n",
    "* Es un claro ejemplo de cola larga, que es muy frecuente en retail\n",
    "* Mejor no hacer nada por ahora en cuanto a atípicos, en EDA quizá lo veamos mejor"
   ]
  },
  {
   "cell_type": "markdown",
   "id": "0f6b1e4a",
   "metadata": {},
   "source": [
    "## GUARDAR DATASETS TRAS CALIDAD DE DATOS"
   ]
  },
  {
   "cell_type": "markdown",
   "id": "1e211b09",
   "metadata": {},
   "source": [
    "Guarda los avances en df, cat y num con un sufijo para poder guardar o recuperar avances del proyecto.\n",
    "\n",
    "En formato pickle para no perder las modificaciones de metadatos."
   ]
  },
  {
   "cell_type": "markdown",
   "id": "abb12eef",
   "metadata": {},
   "source": [
    "### Definir los nombres de los archivos"
   ]
  },
  {
   "cell_type": "code",
   "execution_count": null,
   "id": "f83c6f26",
   "metadata": {},
   "outputs": [],
   "source": [
    "ruta_trabajo = ruta_proyecto + '/02_Datos/03_Trabajo/' + 'trabajo_resultado_calidad.pickle'\n",
    "ruta_cat = ruta_proyecto + '/02_Datos/03_Trabajo/' + 'cat_resultado_calidad.pickle'\n",
    "ruta_num = ruta_proyecto + '/02_Datos/03_Trabajo/' + 'num_resultado_calidad.pickle'"
   ]
  },
  {
   "cell_type": "markdown",
   "id": "1699f284",
   "metadata": {},
   "source": [
    "### Guardar los archivos"
   ]
  },
  {
   "cell_type": "code",
   "execution_count": null,
   "id": "6731887a",
   "metadata": {},
   "outputs": [],
   "source": [
    "df.to_pickle(ruta_trabajo)\n",
    "cat.to_pickle(ruta_cat)\n",
    "num.to_pickle(ruta_num)"
   ]
  },
  {
   "cell_type": "code",
   "execution_count": null,
   "id": "591304e7",
   "metadata": {},
   "outputs": [],
   "source": []
  }
 ],
 "metadata": {
  "kernelspec": {
   "display_name": "Python 3 (ipykernel)",
   "language": "python",
   "name": "python3"
  },
  "language_info": {
   "codemirror_mode": {
    "name": "ipython",
    "version": 3
   },
   "file_extension": ".py",
   "mimetype": "text/x-python",
   "name": "python",
   "nbconvert_exporter": "python",
   "pygments_lexer": "ipython3",
   "version": "3.9.12"
  },
  "toc": {
   "base_numbering": 1,
   "nav_menu": {},
   "number_sections": true,
   "sideBar": true,
   "skip_h1_title": false,
   "title_cell": "Table of Contents",
   "title_sidebar": "Contents",
   "toc_cell": false,
   "toc_position": {
    "height": "calc(100% - 180px)",
    "left": "10px",
    "top": "150px",
    "width": "238.529px"
   },
   "toc_section_display": true,
   "toc_window_display": true
  },
  "varInspector": {
   "cols": {
    "lenName": 16,
    "lenType": 16,
    "lenVar": 40
   },
   "kernels_config": {
    "python": {
     "delete_cmd_postfix": "",
     "delete_cmd_prefix": "del ",
     "library": "var_list.py",
     "varRefreshCmd": "print(var_dic_list())"
    },
    "r": {
     "delete_cmd_postfix": ") ",
     "delete_cmd_prefix": "rm(",
     "library": "var_list.r",
     "varRefreshCmd": "cat(var_dic_list()) "
    }
   },
   "position": {
    "height": "546.85px",
    "left": "680.75px",
    "right": "20px",
    "top": "118px",
    "width": "350px"
   },
   "types_to_exclude": [
    "module",
    "function",
    "builtin_function_or_method",
    "instance",
    "_Feature"
   ],
   "window_display": false
  }
 },
 "nbformat": 4,
 "nbformat_minor": 5
}
